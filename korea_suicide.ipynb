{
 "cells": [
  {
   "cell_type": "code",
   "execution_count": 47,
   "metadata": {},
   "outputs": [
    {
     "name": "stderr",
     "output_type": "stream",
     "text": [
      "/Users/joonpark/opt/anaconda3/lib/python3.7/site-packages/IPython/core/interactiveshell.py:3147: DtypeWarning: Columns (4) have mixed types.Specify dtype option on import or set low_memory=False.\n",
      "  interactivity=interactivity, compiler=compiler, result=result)\n",
      "/Users/joonpark/opt/anaconda3/lib/python3.7/site-packages/IPython/core/interactiveshell.py:3147: DtypeWarning: Columns (2,4) have mixed types.Specify dtype option on import or set low_memory=False.\n",
      "  interactivity=interactivity, compiler=compiler, result=result)\n"
     ]
    }
   ],
   "source": [
    "import pandas as pd\n",
    "import numpy as np\n",
    "df1 = pd.read_csv('part1.csv')\n",
    "df2 = pd.read_csv('part2.csv')\n",
    "df = pd.concat([df1, df2])"
   ]
  },
  {
   "cell_type": "code",
   "execution_count": 81,
   "metadata": {},
   "outputs": [
    {
     "name": "stdout",
     "output_type": "stream",
     "text": [
      "(61, 4.0)\n",
      "(62, 1.0)\n",
      "(63, 0.0)\n",
      "(64, 1.0)\n",
      "(66, 0.0)\n",
      "(67, 54.0)\n",
      "(68, 7.0)\n",
      "(69, 5.0)\n",
      "(70, 239.0)\n",
      "(71, 9.0)\n",
      "(76, 1.0)\n",
      "(78, 0.0)\n",
      "(79, 0.0)\n",
      "(80, 67.0)\n",
      "(81, 1.0)\n",
      "(83, 1.0)\n",
      "(84, 1.0)\n",
      "1822.0\n",
      "391.0\n",
      "0.2145993413830955\n"
     ]
    }
   ],
   "source": [
    "# 자살 코드는 X60부터 X84까지임\n",
    "# 연도 설정\n",
    "year = 2014\n",
    "\n",
    "# 해당 연도 30-34세 (Deaths12), 한국 (Country = 3325), 여성 (Sex=2) 총 사망자 집계\n",
    "female_death_2015_30_34 = df[(df.Country == 3325) & (df.Sex == 2) & (df.Year == year)].Deaths12.sum()\n",
    "\n",
    "# 위 사망자 중 자살자 수만 집계\n",
    "female_death_2015_30_34_suicide = 0\n",
    "for i in range(60, 85):\n",
    "    val = df[(df.Country == 3325) & (df.Year == year) & (df.Sex == 2) & (df.Cause == f'X{i}')].Deaths12.values\n",
    "    if len(val) > 0 and isinstance(val[0], float):\n",
    "        female_death_2015_30_34_suicide += val[0]\n",
    "        print((i, val[0]))\n",
    "        \n",
    "# 총 사망자, 자살 사망자, 자살 사망자 비율\n",
    "print(female_death_2015_30_34)\n",
    "print(female_death_2015_30_34_suicide)\n",
    "print(female_death_2015_30_34_suicide/female_death_2015_30_34)"
   ]
  },
  {
   "cell_type": "code",
   "execution_count": 82,
   "metadata": {},
   "outputs": [
    {
     "name": "stdout",
     "output_type": "stream",
     "text": [
      "(60, 0.0)\n",
      "(61, 5.0)\n",
      "(64, 5.0)\n",
      "(66, 0.0)\n",
      "(67, 197.0)\n",
      "(68, 5.0)\n",
      "(69, 4.0)\n",
      "(70, 320.0)\n",
      "(71, 40.0)\n",
      "(73, 0.0)\n",
      "(74, 1.0)\n",
      "(76, 4.0)\n",
      "(78, 7.0)\n",
      "(80, 81.0)\n",
      "(81, 2.0)\n",
      "(82, 0.0)\n",
      "(83, 0.0)\n",
      "(84, 7.0)\n",
      "3226.0\n",
      "678.0\n",
      "0.3721185510428101\n"
     ]
    }
   ],
   "source": [
    "# 남성 집단에 대해서도 똑같이 분석\n",
    "\n",
    "male_death_2015_30_34 = df[(df.Country == 3325) & (df.Sex == 1) & (df.Year == 2014)].Deaths12.sum()\n",
    "male_death_2015_30_34_suicide = 0\n",
    "for i in range(60, 85):\n",
    "    val = df[(df.Country == 3325) & (df.Year == 2014) & (df.Sex == 1) & (df.Cause == f'X{i}')].Deaths12.values\n",
    "    if len(val) > 0 and isinstance(val[0], float):\n",
    "        male_death_2015_30_34_suicide += val[0]\n",
    "        print((i, val[0]))\n",
    "print(male_death_2015_30_34)\n",
    "print(male_death_2015_30_34_suicide)\n",
    "print(male_death_2015_30_34_suicide/female_death_2015_30_34)"
   ]
  },
  {
   "cell_type": "code",
   "execution_count": null,
   "metadata": {},
   "outputs": [],
   "source": []
  }
 ],
 "metadata": {
  "kernelspec": {
   "display_name": "Python 3",
   "language": "python",
   "name": "python3"
  },
  "language_info": {
   "codemirror_mode": {
    "name": "ipython",
    "version": 3
   },
   "file_extension": ".py",
   "mimetype": "text/x-python",
   "name": "python",
   "nbconvert_exporter": "python",
   "pygments_lexer": "ipython3",
   "version": "3.7.9"
  }
 },
 "nbformat": 4,
 "nbformat_minor": 4
}
